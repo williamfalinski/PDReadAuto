{
 "cells": [
  {
   "cell_type": "code",
   "execution_count": 1,
   "metadata": {},
   "outputs": [],
   "source": [
    "%load_ext autoreload\n",
    "%autoreload 2"
   ]
  },
  {
   "cell_type": "code",
   "execution_count": 2,
   "metadata": {},
   "outputs": [],
   "source": [
    "import PDReadAuto as PDra"
   ]
  },
  {
   "cell_type": "code",
   "execution_count": 3,
   "metadata": {},
   "outputs": [],
   "source": [
    "# This file contains the columns from files and its translations, its crucial to read auto\n",
    "from file_dicts import file_dict"
   ]
  },
  {
   "cell_type": "markdown",
   "metadata": {},
   "source": [
    "Each sample needs its own dict so the script can find the columns"
   ]
  },
  {
   "cell_type": "markdown",
   "metadata": {},
   "source": [
    "SAMPLE1"
   ]
  },
  {
   "cell_type": "code",
   "execution_count": 29,
   "metadata": {},
   "outputs": [
    {
     "name": "stdout",
     "output_type": "stream",
     "text": [
      "Checking dicts match in sheet: (organizations-1000)\n",
      "\tVersion: sample1 ... Columns match: 100.0%\n",
      "\tVersion: sample1_with_duplicated ... Columns match: 88.89%\n",
      "\t\tColumns without any match in sample1_with_duplicated (strings already clean and padronized):\n",
      "\t\t\u001b[31;5m[employees: number of employees(1)], string searched in df: \"number of employees(1)\"\u001b[0m\n",
      "\tVersion: sample1_with_multiple_duplicated ... Columns match: 63.64%\n",
      "\t\tColumns without any match in sample1_with_multiple_duplicated (strings already clean and padronized):\n",
      "\t\t\u001b[31;5m[industry: industry(1)], string searched in df: \"industry(1)\"\u001b[0m\n",
      "\t\t\u001b[31;5m[industry2: industry(2)], string searched in df: \"industry(2)\"\u001b[0m\n",
      "\t\t\u001b[31;5m[employees: number of employees(1)|aaaaaaa1], string searched in df: \"number of employees(1) <-(OR)-> aaaaaaa1\"\u001b[0m\n",
      "\t\t\u001b[31;5m[employees2: number of employees(2)], string searched in df: \"number of employees(2)\"\u001b[0m\n",
      "\t\u001b[0;32mBest result: sample1 with correlation 100.0% of columns\u001b[0m\n",
      "===================================================\n",
      "Checking dicts match in sheet: (organizations-1000-duplicated)\n",
      "\tVersion: sample1 ... Columns match: 88.89%\n",
      "\t\tColumns without any match in sample1 (strings already clean and padronized):\n",
      "\t\t\u001b[31;5m[employees: number of employees], string searched in df: \"number of employees\"\u001b[0m\n",
      "\tVersion: sample1_with_duplicated ... Columns match: 100.0%\n",
      "\tVersion: sample1_with_multiple_duplicated ... Columns match: 72.73%\n",
      "\t\tColumns without any match in sample1_with_multiple_duplicated (strings already clean and padronized):\n",
      "\t\t\u001b[31;5m[industry: industry(1)], string searched in df: \"industry(1)\"\u001b[0m\n",
      "\t\t\u001b[31;5m[industry2: industry(2)], string searched in df: \"industry(2)\"\u001b[0m\n",
      "\t\t\u001b[31;5m[employees2: number of employees(2)], string searched in df: \"number of employees(2)\"\u001b[0m\n",
      "\t\u001b[0;32mBest result: sample1_with_duplicated with correlation 100.0% of columns\u001b[0m\n",
      "===================================================\n",
      "Best result of each sheet_name:\n",
      "\t\u001b[0;32msample1 -> match: 100.0% in line: 0 sheet: (organizations-1000)\u001b[0m\n",
      "\t\u001b[0;32msample1_with_duplicated -> match: 100.0% in line: 0 sheet: (organizations-1000-duplicated)\u001b[0m\n"
     ]
    },
    {
     "data": {
      "text/plain": [
       "[(None,\n",
       "  Empty DataFrame\n",
       "  Columns: []\n",
       "  Index: [])]"
      ]
     },
     "execution_count": 29,
     "metadata": {},
     "output_type": "execute_result"
    }
   ],
   "source": [
    "PDra.read_file(path='files/sample1/organizations-1000.xlsx', dicts=file_dict) "
   ]
  },
  {
   "cell_type": "markdown",
   "metadata": {},
   "source": []
  },
  {
   "cell_type": "code",
   "execution_count": null,
   "metadata": {},
   "outputs": [],
   "source": []
  }
 ],
 "metadata": {
  "kernelspec": {
   "display_name": "Python 3",
   "language": "python",
   "name": "python3"
  },
  "language_info": {
   "codemirror_mode": {
    "name": "ipython",
    "version": 3
   },
   "file_extension": ".py",
   "mimetype": "text/x-python",
   "name": "python",
   "nbconvert_exporter": "python",
   "pygments_lexer": "ipython3",
   "version": "3.11.1"
  },
  "orig_nbformat": 4
 },
 "nbformat": 4,
 "nbformat_minor": 2
}
